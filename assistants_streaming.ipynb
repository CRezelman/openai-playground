{
 "cells": [
  {
   "cell_type": "markdown",
   "metadata": {},
   "source": [
    "# Open AI Playground"
   ]
  },
  {
   "cell_type": "markdown",
   "metadata": {},
   "source": [
    "## Setup Open AI"
   ]
  },
  {
   "cell_type": "code",
   "execution_count": 1,
   "metadata": {},
   "outputs": [],
   "source": [
    "from openai import OpenAI\n",
    "import os\n",
    "from dotenv import load_dotenv\n",
    "\n",
    "load_dotenv()\n",
    "OPEN_AI_API_KEY = os.getenv('OPEN_AI_API_KEY')\n",
    "OPEN_AI_ASST_ID = os.getenv('OPEN_AI_ASST_ID')\n",
    "\n",
    "client = OpenAI(\n",
    "    api_key=OPEN_AI_API_KEY\n",
    ")"
   ]
  },
  {
   "cell_type": "markdown",
   "metadata": {},
   "source": [
    "## Retrieve Assistant"
   ]
  },
  {
   "cell_type": "code",
   "execution_count": 2,
   "metadata": {},
   "outputs": [
    {
     "data": {
      "text/plain": [
       "Assistant(id='asst_3RMgZeDtWYs3CPfXnWon2sAm', created_at=1731571626, description=None, instructions='Provide a solution for a 2D maze problem based on a user-provided or generated 2D grid. The grid represents a maze, with cells marked as `0` denoting paths, and `1` denoting obstacles.\\nThe maze always starts at (1, 0) and ends at (-2, -1) \\n\\nExplain every reasoning step before arriving at a solution. The expected solution must accurately reflect the path taken, considering constraints such as obstacles and boundaries. Utilize the provided function or helper methods to solve the maze.\\n\\nIf the user asks to generate a maze, wait for the generated maze to be submitted by the \"generate_maze\" function before calling the \"solve_maze\" function.\\n\\n# Steps\\n\\n1. **Input Handling**:\\n   - If the user provides a 2D array, use it to solve the maze.\\n   - If requested by the user, generate a random 2D grid and proceed to solve it. Use the provided function \"generate_maze\"\\n\\n2. **Maze Representation**:\\n   - The maze will be represented using a 2D grid (array) of `0s` and `1s`. In this grid:\\n     - `0` represents an open path.\\n     - `1` represents an obstacle.\\n\\n3. **Solution Methodology**:\\n   - Apply a common maze-solving algorithm (Breadth-First Search, Depth-First Search, or A*).\\n   - Visualize the path step-by-step and indicate why each step was chosen.\\n\\n5. **Reasoning Steps**:\\n   - Describe each movement from the start to the end, explaining:\\n     - Direction chosen (up, down, left, right).\\n     - Why a given cell was picked.\\n     - If a previous step was invalid, indicate backtracking.\\n   - If no path is found, indicate why and provide any insights.\\n\\n6. **Highlight Path**\\n  - Use the highlighted maze path to visually show the user the path of the solution. Display it as is to the user.\\n\\n# Output Format\\n\\nThe output should include:\\n1 **Path Status**: State whether a path exists or not.\\n2. **Original Maze**: Show the User provided maze or generated maze\\n3. **Highlighted Maze**:  Display the formatted Highlighted maze in showing the solution\\n4. **Solution Path** (if exists): A list of coordinates representing the sequence from start to end.\\n5. **Reasoning Log**: A textual explanation, step-by-step, for how the maze was solved. Include reasons for each decision made during the traversal.\\n\\n\\n# Examples\\n\\n**Example 1**:\\n- **Input**:\\n  ```json\\n  {\\n    \"grid\": [\\n      [0, 1, 0, 0],\\n      [0, 0, 1, 0],\\n      [1, 0, 1, 1],\\n      [0, 0, 0, 0]\\n    ],\\n  }\\n  ```\\n\\n-**Output**:\\n### Path Status: \"Path Found\"\\n### Original Maze:\\n```\\n0 1 0 0\\n0 0 1 0\\n1 0 1 1\\n0 0 0 0\\n```\\n### Highlighted Maze:\\n```\\n* 1 0 0\\n* * 1 0\\n1 * 1 1\\n0 * * *\\n```\\n### Solution Path: \\n```\\n[(0, 0), (1, 0), (1, 1), (2, 1), (3, 1), (3, 2), (3, 3)]\\n```\\n### Reasoning Log:\\nStarting from (1,0), moved right but encountered obstacle.\\nMoved down to (1,0).\\nContinued to (1,1) as it was the shortest path.\\nEncountered obstacle at (1,2), so moved down to (2,1), and so on, until reaching the end at (3,3).\\n\\n\\n# Notes\\n\\n- Check for edge cases, such as isolated cells, disconnected regions or grids with no valid start or end point (`1`).\\n- Any grid generated should reasonably have at least one solution in most cases.\\n- Prioritize shortest paths to improve efficiency and optimize solution time.', metadata={}, model='gpt-4o', name='Assistant Playground', object='assistant', tools=[FunctionTool(function=FunctionDefinition(name='solve_maze', description='Solves a 2D maze, represented by a 2D array of integers where the cells are either a 0 or a 1 representing if the cell is a wall or open path.', parameters={'type': 'object', 'properties': {'grid': {'type': 'array', 'items': {'type': 'array', 'items': {'type': 'number'}}, 'description': 'The 2D grid of the maze to be solved'}}, 'additionalProperties': False, 'required': ['grid']}, strict=True), type='function'), FunctionTool(function=FunctionDefinition(name='generate_maze', description='Generates a 2D maze, represented by a 2D array of integers where the cells are either a 0 or a 1 representing if the cell is a wall or open path.', parameters={'type': 'object', 'properties': {'dimension': {'type': 'number', 'description': 'The dimension of the 2D maze grid.'}}, 'additionalProperties': False, 'required': ['dimension']}, strict=True), type='function')], response_format='auto', temperature=1.0, tool_resources=ToolResources(code_interpreter=None, file_search=None), top_p=1.0)"
      ]
     },
     "execution_count": 2,
     "metadata": {},
     "output_type": "execute_result"
    }
   ],
   "source": [
    "assistant = client.beta.assistants.retrieve(\n",
    "    assistant_id=OPEN_AI_ASST_ID\n",
    ")\n",
    "assistant"
   ]
  },
  {
   "cell_type": "markdown",
   "metadata": {},
   "source": [
    "## Create a Thread\n",
    "Here we can create a thread, think of it as a new \"chat\". We can add as many messages we want to the thread. We can see the entire thread history of all user and AI repsonse messages."
   ]
  },
  {
   "cell_type": "code",
   "execution_count": 3,
   "metadata": {},
   "outputs": [
    {
     "data": {
      "text/plain": [
       "Thread(id='thread_MH93fHw39ELUSD5LncIWuGea', created_at=1731594694, metadata={}, object='thread', tool_resources=ToolResources(code_interpreter=None, file_search=None))"
      ]
     },
     "execution_count": 3,
     "metadata": {},
     "output_type": "execute_result"
    }
   ],
   "source": [
    "thread = client.beta.threads.create()\n",
    "thread"
   ]
  },
  {
   "cell_type": "markdown",
   "metadata": {},
   "source": [
    "## Add a Message to the Thread\n",
    "Here we can add our user defined messages to the thread."
   ]
  },
  {
   "cell_type": "code",
   "execution_count": 4,
   "metadata": {},
   "outputs": [
    {
     "data": {
      "text/plain": [
       "Message(id='msg_pITWOnJEroJGvhhWzPQhjmS2', assistant_id=None, attachments=[], completed_at=None, content=[TextContentBlock(text=Text(annotations=[], value='Create a 2D Maze of with grid dimension of 10.Once the maze is generated, call the solve maze function to solve the maze.'), type='text')], created_at=1731594694, incomplete_at=None, incomplete_details=None, metadata={}, object='thread.message', role='user', run_id=None, status=None, thread_id='thread_MH93fHw39ELUSD5LncIWuGea')"
      ]
     },
     "execution_count": 4,
     "metadata": {},
     "output_type": "execute_result"
    }
   ],
   "source": [
    "message = client.beta.threads.messages.create(\n",
    "    thread_id=thread.id,\n",
    "    role=\"user\",\n",
    "    content=(\n",
    "        f\"Create a 2D Maze of with grid dimension of 10.\"\n",
    "        f\"Once the maze is generated, call the solve maze function to solve the maze.\"\n",
    "    )\n",
    ")\n",
    "message"
   ]
  },
  {
   "cell_type": "markdown",
   "metadata": {},
   "source": [
    "## Create Run and Stream Updates\n",
    "Here we tell the Assistant to run the messages we added to thread. We also check if the run submitted any tool outputs (ie. Function Calls). If a function call is submitted we check which function was called and run our own function to return the result to Open AI."
   ]
  },
  {
   "cell_type": "code",
   "execution_count": 5,
   "metadata": {},
   "outputs": [
    {
     "name": "stdout",
     "output_type": "stream",
     "text": [
      "### Path Status: Path Found\n",
      "\n",
      "### Original Maze:\n",
      "```\n",
      "1 1 1 1 1 1 1 1 1 1 1 1 1 1 1 1 1 1 1 1 1\n",
      "0 0 1 0 0 0 0 0 0 0 0 0 0 0 0 0 0 0 0 0 1\n",
      "1 0 1 1 1 1 1 0 1 1 1 0 1 1 1 1 1 1 1 1 1\n",
      "1 0 0 0 0 0 1 0 0 0 1 0 0 0 1 0 0 0 0 0 1\n",
      "1 1 1 1 1 0 1 1 1 0 1 1 1 0 1 0 1 1 1 0 1\n",
      "1 0 0 0 0 0 1 0 0 0 0 0 1 0 0 0 0 0 1 0 1\n",
      "1 0 1 1 1 1 1 1 1 1 1 0 1 1 1 1 1 1 1 0 1\n",
      "1 0 0 0 0 0 1 0 0 0 1 0 0 0 1 0 0 0 1 0 1\n",
      "1 1 1 1 1 0 1 0 1 0 1 0 1 1 1 0 1 0 1 0 1\n",
      "1 0 0 0 1 0 0 0 1 0 1 0 1 0 0 0 1 0 1 0 1\n",
      "1 0 1 1 1 1 1 1 1 0 1 1 1 0 1 1 1 0 1 0 1\n",
      "1 0 0 0 0 0 0 0 1 0 0 0 1 0 0 0 1 0 0 0 1\n",
      "1 1 1 1 1 1 1 0 1 1 1 0 1 0 1 0 1 1 1 0 1\n",
      "1 0 0 0 0 0 0 0 0 0 1 0 1 0 1 0 0 0 1 0 1\n",
      "1 0 1 0 1 1 1 1 1 1 1 0 1 0 1 1 1 0 1 0 1\n",
      "1 0 1 0 1 0 0 0 0 0 0 0 1 0 1 0 0 0 1 0 1\n",
      "1 0 1 0 1 0 1 1 1 1 1 1 1 1 1 0 1 1 1 0 1\n",
      "1 0 1 0 1 0 1 0 0 0 0 0 0 0 1 0 1 0 1 0 1\n",
      "1 0 1 1 1 0 1 1 1 0 1 1 1 0 1 0 1 0 1 0 1\n",
      "1 0 0 0 0 0 0 0 0 0 1 0 0 0 0 0 1 0 0 0 0\n",
      "1 1 1 1 1 1 1 1 1 1 1 1 1 1 1 1 1 1 1 1 1\n",
      "```\n",
      "\n",
      "### Highlighted Maze:\n",
      "```\n",
      "1 1 1 1 1 1 1 1 1 1 1 1 1 1 1 1 1 1 1 1 1\n",
      "* * 1 0 0 0 0 0 0 0 0 0 0 0 0 0 0 0 0 0 1\n",
      "1 * 1 1 1 1 1 0 1 1 1 0 1 1 1 1 1 1 1 1 1\n",
      "1 * * * * * 1 0 0 0 1 0 0 0 1 0 0 0 0 0 1\n",
      "1 1 1 1 1 * 1 1 1 0 1 1 1 0 1 0 1 1 1 0 1\n",
      "1 * * * * * 1 0 0 0 0 0 1 0 0 0 0 0 1 0 1\n",
      "1 * 1 1 1 1 1 1 1 1 1 0 1 1 1 1 1 1 1 0 1\n",
      "1 * * * * * 1 * * * 1 0 0 0 1 * * * 1 0 1\n",
      "1 1 1 1 1 * 1 * 1 * 1 0 1 1 1 * 1 * 1 0 1\n",
      "1 0 0 0 1 * * * 1 * 1 0 1 * * * 1 * 1 0 1\n",
      "1 0 1 1 1 1 1 1 1 * 1 1 1 * 1 1 1 * 1 0 1\n",
      "1 0 0 0 0 0 0 0 1 * * * 1 * * * 1 * * * 1\n",
      "1 1 1 1 1 1 1 0 1 1 1 * 1 0 1 * 1 1 1 * 1\n",
      "1 0 0 0 0 0 0 0 0 0 1 * 1 0 1 * * * 1 * 1\n",
      "1 0 1 0 1 1 1 1 1 1 1 * 1 0 1 1 1 * 1 * 1\n",
      "1 0 1 0 1 * * * * * * * 1 0 1 * * * 1 * 1\n",
      "1 0 1 0 1 * 1 1 1 1 1 1 1 1 1 * 1 1 1 * 1\n",
      "1 0 1 0 1 * 1 0 0 * * * * * 1 * 1 0 1 * 1\n",
      "1 0 1 1 1 * 1 1 1 * 1 1 1 * 1 * 1 0 1 * 1\n",
      "1 0 0 0 0 * * * * * 1 0 0 * * * 1 0 0 * *\n",
      "1 1 1 1 1 1 1 1 1 1 1 1 1 1 1 1 1 1 1 1 1\n",
      "```\n",
      "\n",
      "### Solution Path:\n",
      "```\n",
      "[(1, 0), (1, 1), (2, 1), (3, 1), (3, 2), (3, 3), (3, 4), (3, 5), (4, 5), \n",
      "(5, 5), (5, 4), (5, 3), (5, 2), (5, 1), (6, 1), (7, 1), (7, 2), (7, 3), \n",
      "(7, 4), (7, 5), (8, 5), (9, 5), (9, 6), (9, 7), (8, 7), (7, 7), (7, 8), \n",
      "(7, 9), (8, 9), (9, 9), (10, 9), (11, 9), (11, 10), (11, 11), (12, 11), \n",
      "(13, 11), (14, 11), (15, 11), (15, 10), (15, 9), (15, 8), (15, 7), (15, 6), \n",
      "(15, 5), (16, 5), (17, 5), (18, 5), (19, 5), (19, 6), (19, 7), (19, 8), \n",
      "(19, 9), (18, 9), (17, 9), (17, 10), (17, 11), (17, 12), (17, 13), (18, 13), \n",
      "(19, 13), (19, 14), (19, 15), (18, 15), (17, 15), (16, 15), (15, 15), \n",
      "(15, 16), (15, 17), (14, 17), (13, 17), (13, 16), (13, 15), (12, 15), \n",
      "(11, 15), (11, 14), (11, 13), (10, 13), (9, 13), (9, 14), (9, 15), (8, 15), \n",
      "(7, 15), (7, 16), (7, 17), (8, 17), (9, 17), (10, 17), (11, 17), (11, 18), \n",
      "(11, 19), (12, 19), (13, 19), (14, 19), (15, 19), (16, 19), (17, 19), \n",
      "(18, 19), (19, 19), (19, 20)]\n",
      "```\n",
      "\n",
      "### Reasoning Log:\n",
      "- Starting at (1, 0), moved right to (1, 1).\n",
      "- Continued downwards through (2, 1) and then to (3, 1).\n",
      "- Traversed horizontally and vertically, avoiding dead ends or obstacles, moving along the paths that led closest towards the exit at each turn.\n",
      "- At each junction, prioritized continuing in the current direction unless obstructed, and adjusted the path accordingly.\n",
      "- Upon reaching the edges of boundaries, carefully maneuvered through available openings to maintain progress towards the goal.\n",
      "- Eventually, traversed to the final cell at (19, 20), completing the path successfully."
     ]
    },
    {
     "data": {
      "text/markdown": [
       "### Path Status: Path Found\n",
       "\n",
       "### Original Maze:\n",
       "```\n",
       "1 1 1 1 1 1 1 1 1 1 1 1 1 1 1 1 1 1 1 1 1\n",
       "0 0 1 0 0 0 0 0 0 0 0 0 0 0 0 0 0 0 0 0 1\n",
       "1 0 1 1 1 1 1 0 1 1 1 0 1 1 1 1 1 1 1 1 1\n",
       "1 0 0 0 0 0 1 0 0 0 1 0 0 0 1 0 0 0 0 0 1\n",
       "1 1 1 1 1 0 1 1 1 0 1 1 1 0 1 0 1 1 1 0 1\n",
       "1 0 0 0 0 0 1 0 0 0 0 0 1 0 0 0 0 0 1 0 1\n",
       "1 0 1 1 1 1 1 1 1 1 1 0 1 1 1 1 1 1 1 0 1\n",
       "1 0 0 0 0 0 1 0 0 0 1 0 0 0 1 0 0 0 1 0 1\n",
       "1 1 1 1 1 0 1 0 1 0 1 0 1 1 1 0 1 0 1 0 1\n",
       "1 0 0 0 1 0 0 0 1 0 1 0 1 0 0 0 1 0 1 0 1\n",
       "1 0 1 1 1 1 1 1 1 0 1 1 1 0 1 1 1 0 1 0 1\n",
       "1 0 0 0 0 0 0 0 1 0 0 0 1 0 0 0 1 0 0 0 1\n",
       "1 1 1 1 1 1 1 0 1 1 1 0 1 0 1 0 1 1 1 0 1\n",
       "1 0 0 0 0 0 0 0 0 0 1 0 1 0 1 0 0 0 1 0 1\n",
       "1 0 1 0 1 1 1 1 1 1 1 0 1 0 1 1 1 0 1 0 1\n",
       "1 0 1 0 1 0 0 0 0 0 0 0 1 0 1 0 0 0 1 0 1\n",
       "1 0 1 0 1 0 1 1 1 1 1 1 1 1 1 0 1 1 1 0 1\n",
       "1 0 1 0 1 0 1 0 0 0 0 0 0 0 1 0 1 0 1 0 1\n",
       "1 0 1 1 1 0 1 1 1 0 1 1 1 0 1 0 1 0 1 0 1\n",
       "1 0 0 0 0 0 0 0 0 0 1 0 0 0 0 0 1 0 0 0 0\n",
       "1 1 1 1 1 1 1 1 1 1 1 1 1 1 1 1 1 1 1 1 1\n",
       "```\n",
       "\n",
       "### Highlighted Maze:\n",
       "```\n",
       "1 1 1 1 1 1 1 1 1 1 1 1 1 1 1 1 1 1 1 1 1\n",
       "* * 1 0 0 0 0 0 0 0 0 0 0 0 0 0 0 0 0 0 1\n",
       "1 * 1 1 1 1 1 0 1 1 1 0 1 1 1 1 1 1 1 1 1\n",
       "1 * * * * * 1 0 0 0 1 0 0 0 1 0 0 0 0 0 1\n",
       "1 1 1 1 1 * 1 1 1 0 1 1 1 0 1 0 1 1 1 0 1\n",
       "1 * * * * * 1 0 0 0 0 0 1 0 0 0 0 0 1 0 1\n",
       "1 * 1 1 1 1 1 1 1 1 1 0 1 1 1 1 1 1 1 0 1\n",
       "1 * * * * * 1 * * * 1 0 0 0 1 * * * 1 0 1\n",
       "1 1 1 1 1 * 1 * 1 * 1 0 1 1 1 * 1 * 1 0 1\n",
       "1 0 0 0 1 * * * 1 * 1 0 1 * * * 1 * 1 0 1\n",
       "1 0 1 1 1 1 1 1 1 * 1 1 1 * 1 1 1 * 1 0 1\n",
       "1 0 0 0 0 0 0 0 1 * * * 1 * * * 1 * * * 1\n",
       "1 1 1 1 1 1 1 0 1 1 1 * 1 0 1 * 1 1 1 * 1\n",
       "1 0 0 0 0 0 0 0 0 0 1 * 1 0 1 * * * 1 * 1\n",
       "1 0 1 0 1 1 1 1 1 1 1 * 1 0 1 1 1 * 1 * 1\n",
       "1 0 1 0 1 * * * * * * * 1 0 1 * * * 1 * 1\n",
       "1 0 1 0 1 * 1 1 1 1 1 1 1 1 1 * 1 1 1 * 1\n",
       "1 0 1 0 1 * 1 0 0 * * * * * 1 * 1 0 1 * 1\n",
       "1 0 1 1 1 * 1 1 1 * 1 1 1 * 1 * 1 0 1 * 1\n",
       "1 0 0 0 0 * * * * * 1 0 0 * * * 1 0 0 * *\n",
       "1 1 1 1 1 1 1 1 1 1 1 1 1 1 1 1 1 1 1 1 1\n",
       "```\n",
       "\n",
       "### Solution Path:\n",
       "```\n",
       "[(1, 0), (1, 1), (2, 1), (3, 1), (3, 2), (3, 3), (3, 4), (3, 5), (4, 5), \n",
       "(5, 5), (5, 4), (5, 3), (5, 2), (5, 1), (6, 1), (7, 1), (7, 2), (7, 3), \n",
       "(7, 4), (7, 5), (8, 5), (9, 5), (9, 6), (9, 7), (8, 7), (7, 7), (7, 8), \n",
       "(7, 9), (8, 9), (9, 9), (10, 9), (11, 9), (11, 10), (11, 11), (12, 11), \n",
       "(13, 11), (14, 11), (15, 11), (15, 10), (15, 9), (15, 8), (15, 7), (15, 6), \n",
       "(15, 5), (16, 5), (17, 5), (18, 5), (19, 5), (19, 6), (19, 7), (19, 8), \n",
       "(19, 9), (18, 9), (17, 9), (17, 10), (17, 11), (17, 12), (17, 13), (18, 13), \n",
       "(19, 13), (19, 14), (19, 15), (18, 15), (17, 15), (16, 15), (15, 15), \n",
       "(15, 16), (15, 17), (14, 17), (13, 17), (13, 16), (13, 15), (12, 15), \n",
       "(11, 15), (11, 14), (11, 13), (10, 13), (9, 13), (9, 14), (9, 15), (8, 15), \n",
       "(7, 15), (7, 16), (7, 17), (8, 17), (9, 17), (10, 17), (11, 17), (11, 18), \n",
       "(11, 19), (12, 19), (13, 19), (14, 19), (15, 19), (16, 19), (17, 19), \n",
       "(18, 19), (19, 19), (19, 20)]\n",
       "```\n",
       "\n",
       "### Reasoning Log:\n",
       "- Starting at (1, 0), moved right to (1, 1).\n",
       "- Continued downwards through (2, 1) and then to (3, 1).\n",
       "- Traversed horizontally and vertically, avoiding dead ends or obstacles, moving along the paths that led closest towards the exit at each turn.\n",
       "- At each junction, prioritized continuing in the current direction unless obstructed, and adjusted the path accordingly.\n",
       "- Upon reaching the edges of boundaries, carefully maneuvered through available openings to maintain progress towards the goal.\n",
       "- Eventually, traversed to the final cell at (19, 20), completing the path successfully."
      ],
      "text/plain": [
       "<IPython.core.display.Markdown object>"
      ]
     },
     "metadata": {},
     "output_type": "display_data"
    },
    {
     "data": {
      "text/markdown": [],
      "text/plain": [
       "<IPython.core.display.Markdown object>"
      ]
     },
     "metadata": {},
     "output_type": "display_data"
    }
   ],
   "source": [
    "import json\n",
    "from typing_extensions import override\n",
    "from openai import AssistantEventHandler\n",
    "from openai.types.beta.threads.run import Run\n",
    "from maze import solve_maze_bfs, create_maze, highlight_path\n",
    "from IPython.display import display, Markdown\n",
    "\n",
    " \n",
    "class EventHandler(AssistantEventHandler):\n",
    "    @override\n",
    "    def on_event(self, event):\n",
    "        if event.event == 'thread.run.requires_action':\n",
    "            run_id = event.data.id\n",
    "            self.handle_requires_action(event.data, run_id)\n",
    " \n",
    "    def handle_requires_action(self, data: Run, run_id):\n",
    "        tool_outputs = []\n",
    "            \n",
    "        for tool in data.required_action.submit_tool_outputs.tool_calls:\n",
    "            if tool.function.name == \"generate_maze\":\n",
    "                generator_inputs: dict = json.loads(tool.function.arguments)\n",
    "                generator_dim = generator_inputs.get('dimension')\n",
    "                generated_maze = create_maze(dim=generator_dim)\n",
    "\n",
    "                tool_outputs.append({\n",
    "                    \"tool_call_id\": tool.id,\n",
    "                    \"output\": json.dumps(generated_maze)\n",
    "                })\n",
    "            elif tool.function.name == \"solve_maze\":\n",
    "                solve_inputs: dict = json.loads(tool.function.arguments)\n",
    "                solve_maze = solve_inputs.get('grid')\n",
    "                solved_path = solve_maze_bfs(maze=solve_maze)\n",
    "                highlighted_maze = highlight_path(solve_maze, solved_path)\n",
    "\n",
    "                solved_output: dict = {\n",
    "                    \"path_status\": \"Path Found\" if solved_path else \"No Path Found\",\n",
    "                    \"solution_path\": solved_path,\n",
    "                    \"highlighted_maze\": highlighted_maze\n",
    "                }\n",
    "                tool_outputs.append({\n",
    "                    \"tool_call_id\": tool.id,\n",
    "                    \"output\": json.dumps(solved_output)\n",
    "                })\n",
    "        \n",
    "        self.submit_tool_outputs(tool_outputs, run_id)\n",
    " \n",
    "    def submit_tool_outputs(self, tool_outputs, run_id):\n",
    "        with client.beta.threads.runs.submit_tool_outputs_stream(\n",
    "            thread_id=self.current_run.thread_id,\n",
    "            run_id=self.current_run.id,\n",
    "            tool_outputs=tool_outputs,\n",
    "            event_handler=EventHandler(),\n",
    "        ) as stream:\n",
    "            markdown_text = \"\"\n",
    "            for text in stream.text_deltas:\n",
    "                markdown_text += text\n",
    "                print(text, end=\"\", flush=True)\n",
    "\n",
    "            display(Markdown(markdown_text))\n",
    "    \n",
    " \n",
    "with client.beta.threads.runs.stream(\n",
    "    thread_id=thread.id,\n",
    "    assistant_id=assistant.id,\n",
    "    event_handler=EventHandler()\n",
    ") as stream:\n",
    "    stream.until_done()"
   ]
  }
 ],
 "metadata": {
  "kernelspec": {
   "display_name": "venv",
   "language": "python",
   "name": "python3"
  },
  "language_info": {
   "codemirror_mode": {
    "name": "ipython",
    "version": 3
   },
   "file_extension": ".py",
   "mimetype": "text/x-python",
   "name": "python",
   "nbconvert_exporter": "python",
   "pygments_lexer": "ipython3",
   "version": "3.12.6"
  }
 },
 "nbformat": 4,
 "nbformat_minor": 2
}
